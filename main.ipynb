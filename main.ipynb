{
 "cells": [
  {
   "cell_type": "code",
   "execution_count": null,
   "metadata": {},
   "outputs": [],
   "source": [
    "import numpy as np\n",
    "from Layers import Conv3x3\n",
    "from Layers import MaxPool2\n",
    "from activation_function import Softmax\n"
   ]
  },
  {
   "cell_type": "code",
   "execution_count": null,
   "metadata": {},
   "outputs": [],
   "source": [
    "conv = Conv3x3(8)                  \n",
    "pool = MaxPool2()                  \n",
    "softmax = Softmax(13 * 13 * 8, 10) \n",
    "\n",
    "def forward(image, label):\n",
    "\n",
    "\n",
    "        out = conv.forward((image / 255) - 0.5)\n",
    "        out = pool.forward(out)\n",
    "        out = softmax.forward(out)\n",
    "\n",
    "  # Calculate cross-entropy loss and accuracy. np.log() is the natural log.\n",
    "        loss = -np.log(out[label])\n",
    "        acc = 1 if np.argmax(out) == label else 0 \n",
    "\n",
    "        return out, loss, acc\n",
    "\n",
    "def train(im, label, lr=.005):\n",
    "  \n",
    "  # Forward\n",
    "      out, loss, acc = forward(im, label)\n",
    "\n",
    "  # Calculate initial gradient\n",
    "      gradient = np.zeros(10)\n",
    "      gradient[label] = -1 / out[label]\n",
    "\n",
    "  # Backpropagation\n",
    "      gradient = softmax.backprop(gradient, lr)\n",
    "      gradient = pool.backprop(gradient)\n",
    "      gradient = conv.backprop(gradient, lr)\n",
    "\n",
    "      return loss, acc\n",
    "\n",
    "# Train the CNN for 3 epochs\n",
    "for epoch in range(3):\n",
    "    print('--- Epoch %d ---' % (epoch + 1))\n",
    "\n",
    "  # Shuffle the training data\n",
    "    permutation = np.random.permutation(len(train_images))\n",
    "    train_images = train_images[permutation]\n",
    "    train_labels = train_labels[permutation]\n",
    "\n",
    "  # Train\n",
    "    loss = 0\n",
    "    num_correct = 0\n",
    "    for i, (im, label) in enumerate(zip(train_images, train_labels)):\n",
    "        if i % 100 == 99:\n",
    "                print('[Step %d] Past 100 steps: Average Loss %.3f | Accuracy: %d%%' %(i + 1, loss / 100, num_correct))\n",
    "                loss = 0\n",
    "                num_correct = 0\n",
    "\n",
    "        l, acc = train(im, label)\n",
    "        loss += l\n",
    "        num_correct += acc\n",
    "\n",
    "loss = 0\n",
    "num_correct = 0\n",
    "for im, label in zip(test_images, test_labels):\n",
    "        l, acc = forward(im, label)\n",
    "        loss += l\n",
    "        num_correct += acc\n",
    "\n",
    "num_tests = len(test_images)\n",
    "print('Test Loss:', loss / num_tests)\n",
    "print('Test Accuracy:', num_correct / num_tests)"
   ]
  },
  {
   "cell_type": "code",
   "execution_count": null,
   "metadata": {},
   "outputs": [],
   "source": []
  }
 ],
 "metadata": {
  "kernelspec": {
   "display_name": "Python 3",
   "language": "python",
   "name": "python3"
  },
  "language_info": {
   "codemirror_mode": {
    "name": "ipython",
    "version": 3
   },
   "file_extension": ".py",
   "mimetype": "text/x-python",
   "name": "python",
   "nbconvert_exporter": "python",
   "pygments_lexer": "ipython3",
   "version": "3.8.5"
  }
 },
 "nbformat": 4,
 "nbformat_minor": 4
}
