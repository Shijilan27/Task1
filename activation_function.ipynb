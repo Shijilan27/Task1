{
 "cells": [
  {
   "cell_type": "code",
   "execution_count": 1,
   "metadata": {},
   "outputs": [],
   "source": [
    "import numpy as np"
   ]
  },
  {
   "cell_type": "code",
   "execution_count": 3,
   "metadata": {},
   "outputs": [],
   "source": [
    "class Softmax:\n",
    "  # A standard fully-connected layer with softmax activation.\n",
    "\n",
    "    def __init__(self, input_len, nodes):\n",
    "        self.weights = np.random.randn(input_len, nodes) / input_len\n",
    "        self.biases = np.zeros(nodes)\n",
    "# Feed propagation\n",
    "    def forward(self, input):\n",
    "    \n",
    "        self.last_input_shape = input.shape\n",
    "\n",
    "        input = input.flatten()\n",
    "        self.last_input = input\n",
    "\n",
    "        input_len, nodes = self.weights.shape\n",
    "\n",
    "        totals = np.dot(input, self.weights) + self.biases\n",
    "        self.last_totals = totals\n",
    "\n",
    "        exp = np.exp(totals)\n",
    "        return exp / np.sum(exp, axis=0)\n",
    "# Back propagation\n",
    "    def backprop(self, d_L_d_out, learn_rate):\n",
    "   \n",
    "          for i, gradient in enumerate(d_L_d_out):\n",
    "              if gradient == 0:\n",
    "                continue\n",
    "\n",
    "      \n",
    "              t_exp = np.exp(self.last_totals)\n",
    "              S = np.sum(t_exp)\n",
    "\n",
    "     \n",
    "              d_out_d_t = -t_exp[i] * t_exp / (S ** 2)\n",
    "              d_out_d_t[i] = t_exp[i] * (S - t_exp[i]) / (S ** 2)\n",
    "\n",
    "     \n",
    "              d_t_d_w = self.last_input\n",
    "              d_t_d_b = 1\n",
    "              d_t_d_inputs = self.weights\n",
    "\n",
    "      \n",
    "              d_L_d_t = gradient * d_out_d_t\n",
    "\n",
    "     \n",
    "              d_L_d_w = d_t_d_w[np.newaxis].T @ d_L_d_t[np.newaxis]\n",
    "              d_L_d_b = d_L_d_t * d_t_d_b\n",
    "              d_L_d_inputs = d_t_d_inputs @ d_L_d_t\n",
    "\n",
    "      # Update weights / biases\n",
    "              self.weights -= learn_rate * d_L_d_w\n",
    "              self.biases -= learn_rate * d_L_d_b\n",
    "\n",
    "              return d_L_d_inputs.reshape(self.last_input_shape)"
   ]
  },
  {
   "cell_type": "code",
   "execution_count": null,
   "metadata": {},
   "outputs": [],
   "source": []
  }
 ],
 "metadata": {
  "kernelspec": {
   "display_name": "Python 3",
   "language": "python",
   "name": "python3"
  },
  "language_info": {
   "codemirror_mode": {
    "name": "ipython",
    "version": 3
   },
   "file_extension": ".py",
   "mimetype": "text/x-python",
   "name": "python",
   "nbconvert_exporter": "python",
   "pygments_lexer": "ipython3",
   "version": "3.8.5"
  }
 },
 "nbformat": 4,
 "nbformat_minor": 4
}
